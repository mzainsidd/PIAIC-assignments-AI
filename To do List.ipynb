{
 "cells": [
  {
   "cell_type": "code",
   "execution_count": 3,
   "metadata": {},
   "outputs": [
    {
     "name": "stdout",
     "output_type": "stream",
     "text": [
      "Please enter the number of tasks that you want to enter in To Do List: 3\n",
      "Enter your task to be added in To Do List: a\n",
      "Enter your task to be added in To Do List: c\n",
      "Enter your task to be added in To Do List: b\n",
      "Your To Do List contains following Tasks;\n",
      " ['a', 'c', 'b']\n"
     ]
    }
   ],
   "source": [
    "to_do_list = []\n",
    "\n",
    "a = int(input('Please enter the number of tasks that you want to enter in To Do List: '))\n",
    "\n",
    "for i in range(a):\n",
    "    b = input('Enter your task to be added in To Do List: ')\n",
    "    to_do_list.append(b)\n",
    "\n",
    "print(f'Your To Do List contains following Tasks;\\n {to_do_list}')"
   ]
  },
  {
   "cell_type": "code",
   "execution_count": null,
   "metadata": {},
   "outputs": [
    {
     "name": "stdout",
     "output_type": "stream",
     "text": [
      "You have to complete following tasks ['b']\n"
     ]
    }
   ],
   "source": [
    "comp_task=[]\n",
    "\n",
    "print(f'You have to complete following tasks {to_do_list}')\n",
    "\n",
    "for y in to_do_list:\n",
    "    y = input('Please enter completed task: ')\n",
    "    j = to_do_list.index(c)\n",
    "    x = to_do_list.pop(j)\n",
    "    comp_task.append(x)\n",
    "print(f'You have completed following tasks {comp_task} and now following task are remaining {to_do_list}')"
   ]
  },
  {
   "cell_type": "code",
   "execution_count": null,
   "metadata": {},
   "outputs": [],
   "source": [
    "c\n"
   ]
  },
  {
   "cell_type": "code",
   "execution_count": 13,
   "metadata": {},
   "outputs": [
    {
     "data": {
      "text/plain": [
       "'c'"
      ]
     },
     "execution_count": 13,
     "metadata": {},
     "output_type": "execute_result"
    }
   ],
   "source": [
    "comp_task"
   ]
  },
  {
   "cell_type": "code",
   "execution_count": 14,
   "metadata": {},
   "outputs": [
    {
     "data": {
      "text/plain": [
       "[]"
      ]
     },
     "execution_count": 14,
     "metadata": {},
     "output_type": "execute_result"
    }
   ],
   "source": [
    "to_do_list"
   ]
  },
  {
   "cell_type": "code",
   "execution_count": null,
   "metadata": {},
   "outputs": [],
   "source": [
    "comp"
   ]
  }
 ],
 "metadata": {
  "kernelspec": {
   "display_name": "Python 3",
   "language": "python",
   "name": "python3"
  },
  "language_info": {
   "codemirror_mode": {
    "name": "ipython",
    "version": 3
   },
   "file_extension": ".py",
   "mimetype": "text/x-python",
   "name": "python",
   "nbconvert_exporter": "python",
   "pygments_lexer": "ipython3",
   "version": "3.7.3"
  }
 },
 "nbformat": 4,
 "nbformat_minor": 2
}
