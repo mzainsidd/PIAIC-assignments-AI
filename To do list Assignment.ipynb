{
 "cells": [
  {
   "cell_type": "code",
   "execution_count": null,
   "metadata": {},
   "outputs": [],
   "source": [
    "output = []"
   ]
  },
  {
   "cell_type": "code",
   "execution_count": null,
   "metadata": {},
   "outputs": [],
   "source": [
    "daily_routine = [\"attending classes\",\"pray salah\",\"recite quran\",\"call\",\"iftari\",\"taraveeh\"]\n",
    "i = len(completed_tasks)\n",
    "a=0"
   ]
  },
  {
   "cell_type": "code",
   "execution_count": null,
   "metadata": {},
   "outputs": [
    {
     "name": "stdout",
     "output_type": "stream",
     "text": [
      "enter q whenever you want to stop adding or enter any key to continue: abc\n"
     ]
    }
   ],
   "source": [
    "loop = True\n",
    "while loop == True:\n",
    "    inp = input(\"enter q whenever you want to stop adding or enter any key to continue: \")\n",
    "    if inp!= \"q\":\n",
    "        tasks = input(\"enter the tasks that you have completed: \")\n",
    "        for coutput in daily_routine:\n",
    "            if(tasks==output):\n",
    "                i = daily_routine.index(tasks)\n",
    "                complete = daily_routine.pop(i)\n",
    "                output.append(complete)\n",
    "        \n",
    "                break\n",
    "\n",
    "    #completed_tasks.append(complete)\n",
    "\n",
    "        else:\n",
    "            print(\"the task is not in the to-do list\")\n",
    "        a=a+1    \n",
    "    else:\n",
    "        loop=False"
   ]
  },
  {
   "cell_type": "code",
   "execution_count": null,
   "metadata": {},
   "outputs": [],
   "source": []
  }
 ],
 "metadata": {
  "kernelspec": {
   "display_name": "Python 3",
   "language": "python",
   "name": "python3"
  },
  "language_info": {
   "codemirror_mode": {
    "name": "ipython",
    "version": 3
   },
   "file_extension": ".py",
   "mimetype": "text/x-python",
   "name": "python",
   "nbconvert_exporter": "python",
   "pygments_lexer": "ipython3",
   "version": "3.7.3"
  }
 },
 "nbformat": 4,
 "nbformat_minor": 2
}
